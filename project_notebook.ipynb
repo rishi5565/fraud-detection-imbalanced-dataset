{
 "cells": [
  {
   "cell_type": "markdown",
   "metadata": {},
   "source": [
    "#### **Project Overview**\n",
    "- Built a model to detect fraudulant transactions from a extremely imbalanced financial dataset with minority(fraud) proportion of just 0.129 %.\n",
    "- Cleaned, explored and manipulated the entire data extensively on Python to make it usable for our use case.\n",
    "- Investigated the data and engineered new features as and when necessary in accordance with our project requirements.\n",
    "- Was able to achieve a near perfect accuracy with Precision-Recall AUC of 98.55 % on the testing set.\n",
    "- Applied Synthetic Minority Over-sampling Technique (SMOTE) and other measures to overcome extreme imbalance before modelling the classifier."
   ]
  },
  {
   "cell_type": "markdown",
   "metadata": {},
   "source": [
    "##### **Project Introduction**\n",
    "In this project, I'll be trying to detect fraudulant transactions from a financial dataset containing over 6 million records of transactions. The dataset is extremely imbalanced with the minority(fraud) proportion of just 0.129 % of the total number of records. We will be trying to implement various measures to tackle the challenges and arrive at an acceptable fraud detection performance. For our evaluation metric, we will not be using the commonly used accuracy and ROC AUC but instead we will be using the Precision-Recall AUC. This is because since our data is extremely imbalanced and our objective is to evaluate the detection rate, we need a metric that focusses on the recall and precision rates of the classes."
   ]
  },
  {
   "cell_type": "code",
   "execution_count": 119,
   "metadata": {},
   "outputs": [],
   "source": [
    "# importing all the required libraries\n",
    "import pandas as pd\n",
    "import matplotlib.pyplot as plt\n",
    "import seaborn as sns\n",
    "from sklearn.preprocessing import StandardScaler\n",
    "from sklearn.model_selection import train_test_split\n",
    "from imblearn.over_sampling import SMOTE\n",
    "from sklearn.ensemble import RandomForestClassifier\n",
    "from sklearn.metrics import classification_report, confusion_matrix, average_precision_score, PrecisionRecallDisplay\n",
    "import warnings\n",
    "warnings.filterwarnings(\"ignore\")"
   ]
  },
  {
   "cell_type": "code",
   "execution_count": 120,
   "metadata": {},
   "outputs": [],
   "source": [
    "# set the figure size for visualizations\n",
    "sns.set(rc={'figure.figsize':(10,8)})"
   ]
  },
  {
   "cell_type": "code",
   "execution_count": 121,
   "metadata": {},
   "outputs": [
    {
     "data": {
      "text/html": [
       "<div>\n",
       "<style scoped>\n",
       "    .dataframe tbody tr th:only-of-type {\n",
       "        vertical-align: middle;\n",
       "    }\n",
       "\n",
       "    .dataframe tbody tr th {\n",
       "        vertical-align: top;\n",
       "    }\n",
       "\n",
       "    .dataframe thead th {\n",
       "        text-align: right;\n",
       "    }\n",
       "</style>\n",
       "<table border=\"1\" class=\"dataframe\">\n",
       "  <thead>\n",
       "    <tr style=\"text-align: right;\">\n",
       "      <th></th>\n",
       "      <th>step</th>\n",
       "      <th>type</th>\n",
       "      <th>amount</th>\n",
       "      <th>nameOrig</th>\n",
       "      <th>oldbalanceOrg</th>\n",
       "      <th>newbalanceOrig</th>\n",
       "      <th>nameDest</th>\n",
       "      <th>oldbalanceDest</th>\n",
       "      <th>newbalanceDest</th>\n",
       "      <th>isFraud</th>\n",
       "      <th>isFlaggedFraud</th>\n",
       "    </tr>\n",
       "  </thead>\n",
       "  <tbody>\n",
       "    <tr>\n",
       "      <th>0</th>\n",
       "      <td>1</td>\n",
       "      <td>PAYMENT</td>\n",
       "      <td>9839.64</td>\n",
       "      <td>C1231006815</td>\n",
       "      <td>170136.0</td>\n",
       "      <td>160296.36</td>\n",
       "      <td>M1979787155</td>\n",
       "      <td>0.0</td>\n",
       "      <td>0.0</td>\n",
       "      <td>0</td>\n",
       "      <td>0</td>\n",
       "    </tr>\n",
       "    <tr>\n",
       "      <th>1</th>\n",
       "      <td>1</td>\n",
       "      <td>PAYMENT</td>\n",
       "      <td>1864.28</td>\n",
       "      <td>C1666544295</td>\n",
       "      <td>21249.0</td>\n",
       "      <td>19384.72</td>\n",
       "      <td>M2044282225</td>\n",
       "      <td>0.0</td>\n",
       "      <td>0.0</td>\n",
       "      <td>0</td>\n",
       "      <td>0</td>\n",
       "    </tr>\n",
       "    <tr>\n",
       "      <th>2</th>\n",
       "      <td>1</td>\n",
       "      <td>TRANSFER</td>\n",
       "      <td>181.00</td>\n",
       "      <td>C1305486145</td>\n",
       "      <td>181.0</td>\n",
       "      <td>0.00</td>\n",
       "      <td>C553264065</td>\n",
       "      <td>0.0</td>\n",
       "      <td>0.0</td>\n",
       "      <td>1</td>\n",
       "      <td>0</td>\n",
       "    </tr>\n",
       "    <tr>\n",
       "      <th>3</th>\n",
       "      <td>1</td>\n",
       "      <td>CASH_OUT</td>\n",
       "      <td>181.00</td>\n",
       "      <td>C840083671</td>\n",
       "      <td>181.0</td>\n",
       "      <td>0.00</td>\n",
       "      <td>C38997010</td>\n",
       "      <td>21182.0</td>\n",
       "      <td>0.0</td>\n",
       "      <td>1</td>\n",
       "      <td>0</td>\n",
       "    </tr>\n",
       "    <tr>\n",
       "      <th>4</th>\n",
       "      <td>1</td>\n",
       "      <td>PAYMENT</td>\n",
       "      <td>11668.14</td>\n",
       "      <td>C2048537720</td>\n",
       "      <td>41554.0</td>\n",
       "      <td>29885.86</td>\n",
       "      <td>M1230701703</td>\n",
       "      <td>0.0</td>\n",
       "      <td>0.0</td>\n",
       "      <td>0</td>\n",
       "      <td>0</td>\n",
       "    </tr>\n",
       "  </tbody>\n",
       "</table>\n",
       "</div>"
      ],
      "text/plain": [
       "   step      type    amount     nameOrig  oldbalanceOrg  newbalanceOrig  \\\n",
       "0     1   PAYMENT   9839.64  C1231006815       170136.0       160296.36   \n",
       "1     1   PAYMENT   1864.28  C1666544295        21249.0        19384.72   \n",
       "2     1  TRANSFER    181.00  C1305486145          181.0            0.00   \n",
       "3     1  CASH_OUT    181.00   C840083671          181.0            0.00   \n",
       "4     1   PAYMENT  11668.14  C2048537720        41554.0        29885.86   \n",
       "\n",
       "      nameDest  oldbalanceDest  newbalanceDest  isFraud  isFlaggedFraud  \n",
       "0  M1979787155             0.0             0.0        0               0  \n",
       "1  M2044282225             0.0             0.0        0               0  \n",
       "2   C553264065             0.0             0.0        1               0  \n",
       "3    C38997010         21182.0             0.0        1               0  \n",
       "4  M1230701703             0.0             0.0        0               0  "
      ]
     },
     "execution_count": 121,
     "metadata": {},
     "output_type": "execute_result"
    }
   ],
   "source": [
    "# importing the dataset\n",
    "df = pd.read_csv(\"PS_20174392719_1491204439457_log.csv\")\n",
    "df.head()"
   ]
  },
  {
   "cell_type": "markdown",
   "metadata": {},
   "source": [
    "Features reference:\n",
    "\n",
    "- step: represents a unit of time where 1 step equals 1 hour\n",
    "- type: type of online transaction\n",
    "- amount: the amount of the transaction\n",
    "- nameOrig: customer starting the transaction\n",
    "- oldbalanceOrg: balance before the transaction\n",
    "- newbalanceOrig: balance after the transaction\n",
    "- nameDest: recipient of the transaction\n",
    "- oldbalanceDest: initial balance of recipient before the transaction\n",
    "- newbalanceDest: the new balance of recipient after the transaction\n",
    "- isFraud: fraud transaction"
   ]
  },
  {
   "cell_type": "code",
   "execution_count": 122,
   "metadata": {},
   "outputs": [
    {
     "data": {
      "text/plain": [
       "step              0\n",
       "type              0\n",
       "amount            0\n",
       "nameOrig          0\n",
       "oldbalanceOrg     0\n",
       "newbalanceOrig    0\n",
       "nameDest          0\n",
       "oldbalanceDest    0\n",
       "newbalanceDest    0\n",
       "isFraud           0\n",
       "isFlaggedFraud    0\n",
       "dtype: int64"
      ]
     },
     "execution_count": 122,
     "metadata": {},
     "output_type": "execute_result"
    }
   ],
   "source": [
    "# we check for null values\n",
    "df.isna().sum()"
   ]
  },
  {
   "cell_type": "code",
   "execution_count": 123,
   "metadata": {},
   "outputs": [
    {
     "data": {
      "text/plain": [
       "step                int64\n",
       "type               object\n",
       "amount            float64\n",
       "nameOrig           object\n",
       "oldbalanceOrg     float64\n",
       "newbalanceOrig    float64\n",
       "nameDest           object\n",
       "oldbalanceDest    float64\n",
       "newbalanceDest    float64\n",
       "isFraud             int64\n",
       "isFlaggedFraud      int64\n",
       "dtype: object"
      ]
     },
     "execution_count": 123,
     "metadata": {},
     "output_type": "execute_result"
    }
   ],
   "source": [
    "# we check the data types\n",
    "df.dtypes"
   ]
  },
  {
   "cell_type": "code",
   "execution_count": 124,
   "metadata": {},
   "outputs": [
    {
     "name": "stdout",
     "output_type": "stream",
     "text": [
      "Minority(Fraud) Proportion:  0.129  %\n"
     ]
    }
   ],
   "source": [
    "# we check the minority class proportion\n",
    "minority_prop = round((df[\"isFraud\"].value_counts()[1] / len(df)) * 100, 3)\n",
    "print(\"Minority(Fraud) Proportion: \", minority_prop, \" %\")"
   ]
  },
  {
   "cell_type": "markdown",
   "metadata": {},
   "source": [
    "We see that we have an extremely imbalanced dataset with minority class proportion of just 0.129% of the total number of records."
   ]
  },
  {
   "cell_type": "markdown",
   "metadata": {},
   "source": [
    "##### **Data Investigation & Exploration:**"
   ]
  },
  {
   "cell_type": "markdown",
   "metadata": {},
   "source": [
    "First, we will start by splitting the dataset into fraud and valid transactions datasets. Then we will be comparing the stats among each to pick up points of interest and patterns that might help us while building the detection model. We will also be discarding features that we find irrelevant to our project objective."
   ]
  },
  {
   "cell_type": "code",
   "execution_count": 125,
   "metadata": {},
   "outputs": [],
   "source": [
    "# split the dataset into fraud and valid datasets\n",
    "frauddf = df[df[\"isFraud\"] == 1]\n",
    "nofrauddf = df[df[\"isFraud\"] == 0]"
   ]
  },
  {
   "cell_type": "markdown",
   "metadata": {},
   "source": [
    "##### Feature: **\"step\"**"
   ]
  },
  {
   "cell_type": "code",
   "execution_count": 126,
   "metadata": {},
   "outputs": [
    {
     "name": "stdout",
     "output_type": "stream",
     "text": [
      "Fraud DF:\n",
      " count    8213.0\n",
      "mean      368.4\n",
      "std       216.4\n",
      "min         1.0\n",
      "25%       181.0\n",
      "50%       367.0\n",
      "75%       558.0\n",
      "max       743.0\n",
      "Name: step, dtype: float64 \n",
      "\n",
      "Valid DF:\n",
      " count    6354407.0\n",
      "mean         243.2\n",
      "std          142.1\n",
      "min            1.0\n",
      "25%          156.0\n",
      "50%          239.0\n",
      "75%          334.0\n",
      "max          718.0\n",
      "Name: step, dtype: float64\n"
     ]
    }
   ],
   "source": [
    "# descriptive stats of fraud and valid df\n",
    "print(\"Fraud DF:\\n\", frauddf[\"step\"].describe().round(1), \"\\n\\nValid DF:\\n\", nofrauddf[\"step\"].describe().round(1))"
   ]
  },
  {
   "cell_type": "markdown",
   "metadata": {},
   "source": [
    "We see that the average of step is more centered in fraud dataset than that in the valid dataset. This might indicate that fraud transactions generally happen all around the clock whereas valid transactions might have some sort of frequency distribution. We will try to explore this further in detail."
   ]
  },
  {
   "cell_type": "code",
   "execution_count": 127,
   "metadata": {},
   "outputs": [
    {
     "data": {
      "image/png": "[encoded data removed]",
      "text/plain": [
       "<Figure size 1440x576 with 2 Axes>"
      ]
     },
     "metadata": {},
     "output_type": "display_data"
    }
   ],
   "source": [
    "# we plot the histograms of both fraud and valid df step feature\n",
    "fig, axes = plt.subplots(1,2, figsize=(20,8))\n",
    "fig.suptitle('Fraud DF Vs Valid DF (step)')\n",
    "sns.histplot(ax=axes[0], data=frauddf[\"step\"], bins=50, color=\"red\")\n",
    "axes[0].set_title(\"Fraud DF\")\n",
    "sns.histplot(ax=axes[1], data=nofrauddf[\"step\"], bins=50, color=\"green\")\n",
    "axes[1].set_title(\"Valid DF\")\n",
    "plt.show()"
   ]
  },
  {
   "cell_type": "markdown",
   "metadata": {},
   "source": [
    "We see that fraud transactions happen all throughout the month but valid transactions peaks throughout the first half of the month and then slacks off. This looks interesting and will be helpful so we will be including this feature in our model."
   ]
  },
  {
   "cell_type": "markdown",
   "metadata": {},
   "source": [
    "Next, we will be trying to explore comparison between fraud and valid transactions throughout the day."
   ]
  },
  {
   "cell_type": "code",
   "execution_count": 128,
   "metadata": {},
   "outputs": [
    {
     "data": {
      "image/png": "[encoded data removed]",
      "text/plain": [
       "<Figure size 1440x576 with 2 Axes>"
      ]
     },
     "metadata": {},
     "output_type": "display_data"
    }
   ],
   "source": [
    "# we plot the histograms of both fraud and valid df hour of the day feature\n",
    "fig, axes = plt.subplots(1,2, figsize=(20,8))\n",
    "fig.suptitle('Fraud DF Vs Valid DF (Hour of the day)')\n",
    "sns.histplot(ax=axes[0], data=frauddf[\"step\"]%24, bins=24, color=\"red\")\n",
    "axes[0].set_title(\"Fraud DF\")\n",
    "sns.histplot(ax=axes[1], data=nofrauddf[\"step\"]%24, bins=24, color=\"green\")\n",
    "axes[1].set_title(\"Valid DF\")\n",
    "plt.show()"
   ]
  },
  {
   "cell_type": "markdown",
   "metadata": {},
   "source": [
    "We see that fraud transactions happen all throughout the day whereas valid transactions ramps up after the initial hours of the day. This looks interesting so we will be creating a new feature \"hour of the day\" to include in our model."
   ]
  },
  {
   "cell_type": "code",
   "execution_count": 129,
   "metadata": {},
   "outputs": [],
   "source": [
    "# created a new feature hour of the day\n",
    "df[\"dayhour\"] = df[\"step\"]%24"
   ]
  },
  {
   "cell_type": "markdown",
   "metadata": {},
   "source": [
    "##### Feature: **\"type\"**"
   ]
  },
  {
   "cell_type": "code",
   "execution_count": 130,
   "metadata": {},
   "outputs": [
    {
     "name": "stdout",
     "output_type": "stream",
     "text": [
      "Fraud DF:\n",
      " CASH_OUT    4116\n",
      "TRANSFER    4097\n",
      "Name: type, dtype: int64 \n",
      "\n",
      "Valid DF:\n",
      " CASH_OUT    2233384\n",
      "PAYMENT     2151495\n",
      "CASH_IN     1399284\n",
      "TRANSFER     528812\n",
      "DEBIT         41432\n",
      "Name: type, dtype: int64\n"
     ]
    }
   ],
   "source": [
    "# we explore the value counts of the type feature in both our fraud and valid df\n",
    "print(\"Fraud DF:\\n\", frauddf[\"type\"].value_counts(), \"\\n\\nValid DF:\\n\", nofrauddf[\"type\"].value_counts())"
   ]
  },
  {
   "cell_type": "markdown",
   "metadata": {},
   "source": [
    "We see that fraud only happens in \"CASH_OUT\" and \"TRANSFER\" transactions. On the basis of this information, we will be dropping all the other types of transactions from our dataset as they serve no purpose in fraud detection."
   ]
  },
  {
   "cell_type": "code",
   "execution_count": 131,
   "metadata": {},
   "outputs": [],
   "source": [
    "# dropped irrelevant types of transactions\n",
    "df = df[(df[\"type\"] == \"CASH_OUT\") | (df[\"type\"] == \"TRANSFER\")]"
   ]
  },
  {
   "cell_type": "code",
   "execution_count": 132,
   "metadata": {},
   "outputs": [],
   "source": [
    "# we again initialize the fraud and valid transactions df\n",
    "frauddf = df[df[\"isFraud\"] == 1]\n",
    "nofrauddf = df[df[\"isFraud\"] == 0]"
   ]
  },
  {
   "cell_type": "code",
   "execution_count": 133,
   "metadata": {},
   "outputs": [
    {
     "data": {
      "image/png": "[encoded data removed]",
      "text/plain": [
       "<Figure size 720x576 with 1 Axes>"
      ]
     },
     "metadata": {},
     "output_type": "display_data"
    }
   ],
   "source": [
    "# pie chart of transaction types of valid df\n",
    "plt.pie(x=nofrauddf['type'].value_counts(), startangle=90, shadow=True, autopct='%1.0f%%')\n",
    "plt.title(\"Valid DF\")\n",
    "plt.legend(title=\"Transaction Type\", loc=\"upper right\", labels=[\"CASH_OUT\", \"TRANSFER\"])\n",
    "plt.show()"
   ]
  },
  {
   "cell_type": "code",
   "execution_count": 134,
   "metadata": {},
   "outputs": [
    {
     "data": {
      "image/png": "[encoded data removed]",
      "text/plain": [
       "<Figure size 720x576 with 1 Axes>"
      ]
     },
     "metadata": {},
     "output_type": "display_data"
    }
   ],
   "source": [
    "# pie chart of transaction types of fraud df\n",
    "plt.pie(x=frauddf['type'].value_counts(), startangle=90, shadow=True, autopct='%1.0f%%')\n",
    "plt.title(\"Fraud DF\")\n",
    "plt.legend(title=\"Transaction Type\", loc=\"upper right\", labels=[\"CASH_OUT\", \"TRANSFER\"])\n",
    "plt.show()"
   ]
  },
  {
   "cell_type": "markdown",
   "metadata": {},
   "source": [
    "##### Feature: **\"amount\"** and all related features"
   ]
  },
  {
   "cell_type": "code",
   "execution_count": 135,
   "metadata": {},
   "outputs": [
    {
     "name": "stdout",
     "output_type": "stream",
     "text": [
      "Fraud DF:\n",
      " count        8213.0\n",
      "mean      1467967.3\n",
      "std       2404252.9\n",
      "min             0.0\n",
      "25%        127091.3\n",
      "50%        441423.4\n",
      "75%       1517771.5\n",
      "max      10000000.0\n",
      "Name: amount, dtype: float64 \n",
      "\n",
      "Valid DF:\n",
      " count     2762196.0\n",
      "mean       314115.5\n",
      "std        877144.1\n",
      "min             0.0\n",
      "25%         82908.2\n",
      "50%        171034.5\n",
      "75%        305994.2\n",
      "max      92445516.6\n",
      "Name: amount, dtype: float64\n"
     ]
    }
   ],
   "source": [
    "# we print the descriptive stats of the fraud and valid df amount feature\n",
    "print(\"Fraud DF:\\n\", frauddf[\"amount\"].describe().round(1), \"\\n\\nValid DF:\\n\", nofrauddf[\"amount\"].describe().round(1))"
   ]
  },
  {
   "cell_type": "markdown",
   "metadata": {},
   "source": [
    "We see some interesting points:\n",
    "- Fraud transactions amount is capped at exactly 10 million units whereas valid transactions amount goes all the way upto 92 million units.\n",
    "- Mean of fraud and valid transaction amount is way higher than their respective median indicating high presence of outliers.\n",
    "- Fraud transaction amounts are generally higher than valid transaction amounts."
   ]
  },
  {
   "cell_type": "code",
   "execution_count": 136,
   "metadata": {},
   "outputs": [
    {
     "data": {
      "text/html": [
       "<div>\n",
       "<style scoped>\n",
       "    .dataframe tbody tr th:only-of-type {\n",
       "        vertical-align: middle;\n",
       "    }\n",
       "\n",
       "    .dataframe tbody tr th {\n",
       "        vertical-align: top;\n",
       "    }\n",
       "\n",
       "    .dataframe thead th {\n",
       "        text-align: right;\n",
       "    }\n",
       "</style>\n",
       "<table border=\"1\" class=\"dataframe\">\n",
       "  <thead>\n",
       "    <tr style=\"text-align: right;\">\n",
       "      <th></th>\n",
       "      <th>step</th>\n",
       "      <th>type</th>\n",
       "      <th>amount</th>\n",
       "      <th>nameOrig</th>\n",
       "      <th>oldbalanceOrg</th>\n",
       "      <th>newbalanceOrig</th>\n",
       "      <th>nameDest</th>\n",
       "      <th>oldbalanceDest</th>\n",
       "      <th>newbalanceDest</th>\n",
       "      <th>isFraud</th>\n",
       "      <th>isFlaggedFraud</th>\n",
       "      <th>dayhour</th>\n",
       "    </tr>\n",
       "  </thead>\n",
       "  <tbody>\n",
       "    <tr>\n",
       "      <th>2</th>\n",
       "      <td>1</td>\n",
       "      <td>TRANSFER</td>\n",
       "      <td>181.00</td>\n",
       "      <td>C1305486145</td>\n",
       "      <td>181.0</td>\n",
       "      <td>0.0</td>\n",
       "      <td>C553264065</td>\n",
       "      <td>0.0</td>\n",
       "      <td>0.00</td>\n",
       "      <td>1</td>\n",
       "      <td>0</td>\n",
       "      <td>1</td>\n",
       "    </tr>\n",
       "    <tr>\n",
       "      <th>3</th>\n",
       "      <td>1</td>\n",
       "      <td>CASH_OUT</td>\n",
       "      <td>181.00</td>\n",
       "      <td>C840083671</td>\n",
       "      <td>181.0</td>\n",
       "      <td>0.0</td>\n",
       "      <td>C38997010</td>\n",
       "      <td>21182.0</td>\n",
       "      <td>0.00</td>\n",
       "      <td>1</td>\n",
       "      <td>0</td>\n",
       "      <td>1</td>\n",
       "    </tr>\n",
       "    <tr>\n",
       "      <th>15</th>\n",
       "      <td>1</td>\n",
       "      <td>CASH_OUT</td>\n",
       "      <td>229133.94</td>\n",
       "      <td>C905080434</td>\n",
       "      <td>15325.0</td>\n",
       "      <td>0.0</td>\n",
       "      <td>C476402209</td>\n",
       "      <td>5083.0</td>\n",
       "      <td>51513.44</td>\n",
       "      <td>0</td>\n",
       "      <td>0</td>\n",
       "      <td>1</td>\n",
       "    </tr>\n",
       "    <tr>\n",
       "      <th>19</th>\n",
       "      <td>1</td>\n",
       "      <td>TRANSFER</td>\n",
       "      <td>215310.30</td>\n",
       "      <td>C1670993182</td>\n",
       "      <td>705.0</td>\n",
       "      <td>0.0</td>\n",
       "      <td>C1100439041</td>\n",
       "      <td>22425.0</td>\n",
       "      <td>0.00</td>\n",
       "      <td>0</td>\n",
       "      <td>0</td>\n",
       "      <td>1</td>\n",
       "    </tr>\n",
       "    <tr>\n",
       "      <th>24</th>\n",
       "      <td>1</td>\n",
       "      <td>TRANSFER</td>\n",
       "      <td>311685.89</td>\n",
       "      <td>C1984094095</td>\n",
       "      <td>10835.0</td>\n",
       "      <td>0.0</td>\n",
       "      <td>C932583850</td>\n",
       "      <td>6267.0</td>\n",
       "      <td>2719172.89</td>\n",
       "      <td>0</td>\n",
       "      <td>0</td>\n",
       "      <td>1</td>\n",
       "    </tr>\n",
       "  </tbody>\n",
       "</table>\n",
       "</div>"
      ],
      "text/plain": [
       "    step      type     amount     nameOrig  oldbalanceOrg  newbalanceOrig  \\\n",
       "2      1  TRANSFER     181.00  C1305486145          181.0             0.0   \n",
       "3      1  CASH_OUT     181.00   C840083671          181.0             0.0   \n",
       "15     1  CASH_OUT  229133.94   C905080434        15325.0             0.0   \n",
       "19     1  TRANSFER  215310.30  C1670993182          705.0             0.0   \n",
       "24     1  TRANSFER  311685.89  C1984094095        10835.0             0.0   \n",
       "\n",
       "       nameDest  oldbalanceDest  newbalanceDest  isFraud  isFlaggedFraud  \\\n",
       "2    C553264065             0.0            0.00        1               0   \n",
       "3     C38997010         21182.0            0.00        1               0   \n",
       "15   C476402209          5083.0        51513.44        0               0   \n",
       "19  C1100439041         22425.0            0.00        0               0   \n",
       "24   C932583850          6267.0      2719172.89        0               0   \n",
       "\n",
       "    dayhour  \n",
       "2         1  \n",
       "3         1  \n",
       "15        1  \n",
       "19        1  \n",
       "24        1  "
      ]
     },
     "execution_count": 136,
     "metadata": {},
     "output_type": "execute_result"
    }
   ],
   "source": [
    "# we print the first 5 transactions\n",
    "df.head()"
   ]
  },
  {
   "cell_type": "markdown",
   "metadata": {},
   "source": [
    "We see that **\"newbalanceOrig\"** + **\"amount\"** should equal to **\"oldbalanceOrg\"** and also **\"oldbalanceDest\"** + **\"amount\"** should equal to **\"newbalanceDest\"**. We will try to verify this before proceeding ahead and also check if there are any discrepencies."
   ]
  },
  {
   "cell_type": "code",
   "execution_count": 137,
   "metadata": {},
   "outputs": [
    {
     "name": "stdout",
     "output_type": "stream",
     "text": [
      "Percentages: \n",
      " False    91.0\n",
      "True      9.0\n",
      "dtype: float64\n"
     ]
    }
   ],
   "source": [
    "# we verify if new balance origin + amount does equal to old balance origin\n",
    "print(\"Percentages: \\n\", ((df[\"newbalanceOrig\"] + df[\"amount\"]) == df[\"oldbalanceOrg\"]).value_counts(normalize=True).round(2)*100)"
   ]
  },
  {
   "cell_type": "markdown",
   "metadata": {},
   "source": [
    "We see that only 9% of the data has no errors in the details related to origin balances and amount. This looks very interesting so we will create a new feature \"origin error amount\" in our model."
   ]
  },
  {
   "cell_type": "code",
   "execution_count": 138,
   "metadata": {},
   "outputs": [],
   "source": [
    "# created a new feature origin error\n",
    "df[\"origin_error\"] = (df[\"newbalanceOrig\"] + df[\"amount\"]) - df[\"oldbalanceOrg\"]"
   ]
  },
  {
   "cell_type": "markdown",
   "metadata": {},
   "source": [
    "Next, we will check the same for destination balances and amount."
   ]
  },
  {
   "cell_type": "code",
   "execution_count": 139,
   "metadata": {},
   "outputs": [
    {
     "name": "stdout",
     "output_type": "stream",
     "text": [
      "Percentages: \n",
      " True     58.0\n",
      "False    42.0\n",
      "dtype: float64\n"
     ]
    }
   ],
   "source": [
    "# we verify if old balance destination + amount does equal to new balance destination\n",
    "print(\"Percentages: \\n\", ((df[\"oldbalanceDest\"] + df[\"amount\"]) == df[\"newbalanceDest\"]).value_counts(normalize=True).round(2)*100)"
   ]
  },
  {
   "cell_type": "markdown",
   "metadata": {},
   "source": [
    "We see that 42% of the data has errors in the details related to destination balances and amount. Similarly, we will again create a new feature \"destination error amount\" in our model."
   ]
  },
  {
   "cell_type": "code",
   "execution_count": 140,
   "metadata": {},
   "outputs": [],
   "source": [
    "# created a new feature destination error\n",
    "df[\"dest_error\"] = (df[\"oldbalanceDest\"] + df[\"amount\"]) - df[\"newbalanceDest\"]"
   ]
  },
  {
   "cell_type": "markdown",
   "metadata": {},
   "source": [
    "##### Feature: **\"nameOrig\"** and **\"nameDest\"**"
   ]
  },
  {
   "cell_type": "code",
   "execution_count": 141,
   "metadata": {},
   "outputs": [
    {
     "name": "stdout",
     "output_type": "stream",
     "text": [
      "Total Origin Names: 2770409\n",
      "Unique Origin Names: 2768630\n",
      "Transactions from existing Origin Names: 1779\n"
     ]
    }
   ],
   "source": [
    "# we check transactions from new origin names and existing origin names\n",
    "print(\"Total Origin Names:\", len(df[\"nameOrig\"]))\n",
    "print(\"Unique Origin Names:\", len(df[\"nameOrig\"].unique()))\n",
    "print(\"Transactions from existing Origin Names:\", len(df[\"nameOrig\"]) - len(df[\"nameOrig\"].unique()))"
   ]
  },
  {
   "cell_type": "code",
   "execution_count": 142,
   "metadata": {},
   "outputs": [
    {
     "name": "stdout",
     "output_type": "stream",
     "text": [
      "Total Destination Names: 2770409\n",
      "Unique Destination Names: 509565\n",
      "Transactions to existing Destination Names: 2260844\n"
     ]
    }
   ],
   "source": [
    "# we check transactions to new destination names and existing destination names\n",
    "print(\"Total Destination Names:\", len(df[\"nameDest\"]))\n",
    "print(\"Unique Destination Names:\", len(df[\"nameDest\"].unique()))\n",
    "print(\"Transactions to existing Destination Names:\", len(df[\"nameDest\"]) - len(df[\"nameDest\"].unique()))"
   ]
  },
  {
   "cell_type": "markdown",
   "metadata": {},
   "source": [
    "We see that there are very few transactions that started from existing origin names but there are quite a lot of transactions that were made to existing destination names."
   ]
  },
  {
   "cell_type": "code",
   "execution_count": 143,
   "metadata": {},
   "outputs": [
    {
     "name": "stdout",
     "output_type": "stream",
     "text": [
      "Number of Origin Names without the initial of \"C\": 0\n"
     ]
    }
   ],
   "source": [
    "# we check if there are any transactions with origin name of initials other than \"C\"\n",
    "print(\"\"\"Number of Origin Names without the initial of \"C\":\"\"\", len(df[~df[\"nameOrig\"].str.contains(\"C\")]))"
   ]
  },
  {
   "cell_type": "code",
   "execution_count": 144,
   "metadata": {},
   "outputs": [
    {
     "name": "stdout",
     "output_type": "stream",
     "text": [
      "Number of Destination Names without the initial of \"C\": 0\n"
     ]
    }
   ],
   "source": [
    "# we check if there are any transactions with destination name of initials other than \"C\"\n",
    "print(\"\"\"Number of Destination Names without the initial of \"C\":\"\"\", len(df[~df[\"nameDest\"].str.contains(\"C\")]))"
   ]
  },
  {
   "cell_type": "markdown",
   "metadata": {},
   "source": [
    "We see that this two features will not show any significance in detecting fraud transactions so we will be dropping them from our model."
   ]
  },
  {
   "cell_type": "code",
   "execution_count": 145,
   "metadata": {},
   "outputs": [],
   "source": [
    "# dropped nameOrig and nameDest\n",
    "df.drop(columns=[\"nameOrig\", \"nameDest\"], axis=1, inplace=True)"
   ]
  },
  {
   "cell_type": "markdown",
   "metadata": {},
   "source": [
    "##### Feature: **\"isFlaggedFraud\"**"
   ]
  },
  {
   "cell_type": "code",
   "execution_count": 148,
   "metadata": {},
   "outputs": [
    {
     "data": {
      "text/plain": [
       "0    2770393\n",
       "1         16\n",
       "Name: isFlaggedFraud, dtype: int64"
      ]
     },
     "execution_count": 148,
     "metadata": {},
     "output_type": "execute_result"
    }
   ],
   "source": [
    "# we check the value counts\n",
    "df[\"isFlaggedFraud\"].value_counts()"
   ]
  },
  {
   "cell_type": "markdown",
   "metadata": {},
   "source": [
    "We see that this feature is extremely minuscule and will most likely not be of any significance. We will try to check all the transactions that are positive for this feature."
   ]
  },
  {
   "cell_type": "code",
   "execution_count": 149,
   "metadata": {},
   "outputs": [
    {
     "data": {
      "text/html": [
       "<div>\n",
       "<style scoped>\n",
       "    .dataframe tbody tr th:only-of-type {\n",
       "        vertical-align: middle;\n",
       "    }\n",
       "\n",
       "    .dataframe tbody tr th {\n",
       "        vertical-align: top;\n",
       "    }\n",
       "\n",
       "    .dataframe thead th {\n",
       "        text-align: right;\n",
       "    }\n",
       "</style>\n",
       "<table border=\"1\" class=\"dataframe\">\n",
       "  <thead>\n",
       "    <tr style=\"text-align: right;\">\n",
       "      <th></th>\n",
       "      <th>step</th>\n",
       "      <th>type</th>\n",
       "      <th>amount</th>\n",
       "      <th>oldbalanceOrg</th>\n",
       "      <th>newbalanceOrig</th>\n",
       "      <th>oldbalanceDest</th>\n",
       "      <th>newbalanceDest</th>\n",
       "      <th>isFraud</th>\n",
       "      <th>isFlaggedFraud</th>\n",
       "      <th>dayhour</th>\n",
       "      <th>origin_error</th>\n",
       "      <th>dest_error</th>\n",
       "    </tr>\n",
       "  </thead>\n",
       "  <tbody>\n",
       "    <tr>\n",
       "      <th>2736446</th>\n",
       "      <td>212</td>\n",
       "      <td>TRANSFER</td>\n",
       "      <td>4953893.08</td>\n",
       "      <td>4953893.08</td>\n",
       "      <td>4953893.08</td>\n",
       "      <td>0.0</td>\n",
       "      <td>0.0</td>\n",
       "      <td>1</td>\n",
       "      <td>1</td>\n",
       "      <td>20</td>\n",
       "      <td>4953893.08</td>\n",
       "      <td>4953893.08</td>\n",
       "    </tr>\n",
       "    <tr>\n",
       "      <th>3247297</th>\n",
       "      <td>250</td>\n",
       "      <td>TRANSFER</td>\n",
       "      <td>1343002.08</td>\n",
       "      <td>1343002.08</td>\n",
       "      <td>1343002.08</td>\n",
       "      <td>0.0</td>\n",
       "      <td>0.0</td>\n",
       "      <td>1</td>\n",
       "      <td>1</td>\n",
       "      <td>10</td>\n",
       "      <td>1343002.08</td>\n",
       "      <td>1343002.08</td>\n",
       "    </tr>\n",
       "    <tr>\n",
       "      <th>3760288</th>\n",
       "      <td>279</td>\n",
       "      <td>TRANSFER</td>\n",
       "      <td>536624.41</td>\n",
       "      <td>536624.41</td>\n",
       "      <td>536624.41</td>\n",
       "      <td>0.0</td>\n",
       "      <td>0.0</td>\n",
       "      <td>1</td>\n",
       "      <td>1</td>\n",
       "      <td>15</td>\n",
       "      <td>536624.41</td>\n",
       "      <td>536624.41</td>\n",
       "    </tr>\n",
       "    <tr>\n",
       "      <th>5563713</th>\n",
       "      <td>387</td>\n",
       "      <td>TRANSFER</td>\n",
       "      <td>4892193.09</td>\n",
       "      <td>4892193.09</td>\n",
       "      <td>4892193.09</td>\n",
       "      <td>0.0</td>\n",
       "      <td>0.0</td>\n",
       "      <td>1</td>\n",
       "      <td>1</td>\n",
       "      <td>3</td>\n",
       "      <td>4892193.09</td>\n",
       "      <td>4892193.09</td>\n",
       "    </tr>\n",
       "    <tr>\n",
       "      <th>5996407</th>\n",
       "      <td>425</td>\n",
       "      <td>TRANSFER</td>\n",
       "      <td>10000000.00</td>\n",
       "      <td>19585040.37</td>\n",
       "      <td>19585040.37</td>\n",
       "      <td>0.0</td>\n",
       "      <td>0.0</td>\n",
       "      <td>1</td>\n",
       "      <td>1</td>\n",
       "      <td>17</td>\n",
       "      <td>10000000.00</td>\n",
       "      <td>10000000.00</td>\n",
       "    </tr>\n",
       "    <tr>\n",
       "      <th>5996409</th>\n",
       "      <td>425</td>\n",
       "      <td>TRANSFER</td>\n",
       "      <td>9585040.37</td>\n",
       "      <td>19585040.37</td>\n",
       "      <td>19585040.37</td>\n",
       "      <td>0.0</td>\n",
       "      <td>0.0</td>\n",
       "      <td>1</td>\n",
       "      <td>1</td>\n",
       "      <td>17</td>\n",
       "      <td>9585040.37</td>\n",
       "      <td>9585040.37</td>\n",
       "    </tr>\n",
       "    <tr>\n",
       "      <th>6168499</th>\n",
       "      <td>554</td>\n",
       "      <td>TRANSFER</td>\n",
       "      <td>3576297.10</td>\n",
       "      <td>3576297.10</td>\n",
       "      <td>3576297.10</td>\n",
       "      <td>0.0</td>\n",
       "      <td>0.0</td>\n",
       "      <td>1</td>\n",
       "      <td>1</td>\n",
       "      <td>2</td>\n",
       "      <td>3576297.10</td>\n",
       "      <td>3576297.10</td>\n",
       "    </tr>\n",
       "    <tr>\n",
       "      <th>6205439</th>\n",
       "      <td>586</td>\n",
       "      <td>TRANSFER</td>\n",
       "      <td>353874.22</td>\n",
       "      <td>353874.22</td>\n",
       "      <td>353874.22</td>\n",
       "      <td>0.0</td>\n",
       "      <td>0.0</td>\n",
       "      <td>1</td>\n",
       "      <td>1</td>\n",
       "      <td>10</td>\n",
       "      <td>353874.22</td>\n",
       "      <td>353874.22</td>\n",
       "    </tr>\n",
       "    <tr>\n",
       "      <th>6266413</th>\n",
       "      <td>617</td>\n",
       "      <td>TRANSFER</td>\n",
       "      <td>2542664.27</td>\n",
       "      <td>2542664.27</td>\n",
       "      <td>2542664.27</td>\n",
       "      <td>0.0</td>\n",
       "      <td>0.0</td>\n",
       "      <td>1</td>\n",
       "      <td>1</td>\n",
       "      <td>17</td>\n",
       "      <td>2542664.27</td>\n",
       "      <td>2542664.27</td>\n",
       "    </tr>\n",
       "    <tr>\n",
       "      <th>6281482</th>\n",
       "      <td>646</td>\n",
       "      <td>TRANSFER</td>\n",
       "      <td>10000000.00</td>\n",
       "      <td>10399045.08</td>\n",
       "      <td>10399045.08</td>\n",
       "      <td>0.0</td>\n",
       "      <td>0.0</td>\n",
       "      <td>1</td>\n",
       "      <td>1</td>\n",
       "      <td>22</td>\n",
       "      <td>10000000.00</td>\n",
       "      <td>10000000.00</td>\n",
       "    </tr>\n",
       "    <tr>\n",
       "      <th>6281484</th>\n",
       "      <td>646</td>\n",
       "      <td>TRANSFER</td>\n",
       "      <td>399045.08</td>\n",
       "      <td>10399045.08</td>\n",
       "      <td>10399045.08</td>\n",
       "      <td>0.0</td>\n",
       "      <td>0.0</td>\n",
       "      <td>1</td>\n",
       "      <td>1</td>\n",
       "      <td>22</td>\n",
       "      <td>399045.08</td>\n",
       "      <td>399045.08</td>\n",
       "    </tr>\n",
       "    <tr>\n",
       "      <th>6296014</th>\n",
       "      <td>671</td>\n",
       "      <td>TRANSFER</td>\n",
       "      <td>3441041.46</td>\n",
       "      <td>3441041.46</td>\n",
       "      <td>3441041.46</td>\n",
       "      <td>0.0</td>\n",
       "      <td>0.0</td>\n",
       "      <td>1</td>\n",
       "      <td>1</td>\n",
       "      <td>23</td>\n",
       "      <td>3441041.46</td>\n",
       "      <td>3441041.46</td>\n",
       "    </tr>\n",
       "    <tr>\n",
       "      <th>6351225</th>\n",
       "      <td>702</td>\n",
       "      <td>TRANSFER</td>\n",
       "      <td>3171085.59</td>\n",
       "      <td>3171085.59</td>\n",
       "      <td>3171085.59</td>\n",
       "      <td>0.0</td>\n",
       "      <td>0.0</td>\n",
       "      <td>1</td>\n",
       "      <td>1</td>\n",
       "      <td>6</td>\n",
       "      <td>3171085.59</td>\n",
       "      <td>3171085.59</td>\n",
       "    </tr>\n",
       "    <tr>\n",
       "      <th>6362460</th>\n",
       "      <td>730</td>\n",
       "      <td>TRANSFER</td>\n",
       "      <td>10000000.00</td>\n",
       "      <td>17316255.05</td>\n",
       "      <td>17316255.05</td>\n",
       "      <td>0.0</td>\n",
       "      <td>0.0</td>\n",
       "      <td>1</td>\n",
       "      <td>1</td>\n",
       "      <td>10</td>\n",
       "      <td>10000000.00</td>\n",
       "      <td>10000000.00</td>\n",
       "    </tr>\n",
       "    <tr>\n",
       "      <th>6362462</th>\n",
       "      <td>730</td>\n",
       "      <td>TRANSFER</td>\n",
       "      <td>7316255.05</td>\n",
       "      <td>17316255.05</td>\n",
       "      <td>17316255.05</td>\n",
       "      <td>0.0</td>\n",
       "      <td>0.0</td>\n",
       "      <td>1</td>\n",
       "      <td>1</td>\n",
       "      <td>10</td>\n",
       "      <td>7316255.05</td>\n",
       "      <td>7316255.05</td>\n",
       "    </tr>\n",
       "    <tr>\n",
       "      <th>6362584</th>\n",
       "      <td>741</td>\n",
       "      <td>TRANSFER</td>\n",
       "      <td>5674547.89</td>\n",
       "      <td>5674547.89</td>\n",
       "      <td>5674547.89</td>\n",
       "      <td>0.0</td>\n",
       "      <td>0.0</td>\n",
       "      <td>1</td>\n",
       "      <td>1</td>\n",
       "      <td>21</td>\n",
       "      <td>5674547.89</td>\n",
       "      <td>5674547.89</td>\n",
       "    </tr>\n",
       "  </tbody>\n",
       "</table>\n",
       "</div>"
      ],
      "text/plain": [
       "         step      type       amount  oldbalanceOrg  newbalanceOrig  \\\n",
       "2736446   212  TRANSFER   4953893.08     4953893.08      4953893.08   \n",
       "3247297   250  TRANSFER   1343002.08     1343002.08      1343002.08   \n",
       "3760288   279  TRANSFER    536624.41      536624.41       536624.41   \n",
       "5563713   387  TRANSFER   4892193.09     4892193.09      4892193.09   \n",
       "5996407   425  TRANSFER  10000000.00    19585040.37     19585040.37   \n",
       "5996409   425  TRANSFER   9585040.37    19585040.37     19585040.37   \n",
       "6168499   554  TRANSFER   3576297.10     3576297.10      3576297.10   \n",
       "6205439   586  TRANSFER    353874.22      353874.22       353874.22   \n",
       "6266413   617  TRANSFER   2542664.27     2542664.27      2542664.27   \n",
       "6281482   646  TRANSFER  10000000.00    10399045.08     10399045.08   \n",
       "6281484   646  TRANSFER    399045.08    10399045.08     10399045.08   \n",
       "6296014   671  TRANSFER   3441041.46     3441041.46      3441041.46   \n",
       "6351225   702  TRANSFER   3171085.59     3171085.59      3171085.59   \n",
       "6362460   730  TRANSFER  10000000.00    17316255.05     17316255.05   \n",
       "6362462   730  TRANSFER   7316255.05    17316255.05     17316255.05   \n",
       "6362584   741  TRANSFER   5674547.89     5674547.89      5674547.89   \n",
       "\n",
       "         oldbalanceDest  newbalanceDest  isFraud  isFlaggedFraud  dayhour  \\\n",
       "2736446             0.0             0.0        1               1       20   \n",
       "3247297             0.0             0.0        1               1       10   \n",
       "3760288             0.0             0.0        1               1       15   \n",
       "5563713             0.0             0.0        1               1        3   \n",
       "5996407             0.0             0.0        1               1       17   \n",
       "5996409             0.0             0.0        1               1       17   \n",
       "6168499             0.0             0.0        1               1        2   \n",
       "6205439             0.0             0.0        1               1       10   \n",
       "6266413             0.0             0.0        1               1       17   \n",
       "6281482             0.0             0.0        1               1       22   \n",
       "6281484             0.0             0.0        1               1       22   \n",
       "6296014             0.0             0.0        1               1       23   \n",
       "6351225             0.0             0.0        1               1        6   \n",
       "6362460             0.0             0.0        1               1       10   \n",
       "6362462             0.0             0.0        1               1       10   \n",
       "6362584             0.0             0.0        1               1       21   \n",
       "\n",
       "         origin_error   dest_error  \n",
       "2736446    4953893.08   4953893.08  \n",
       "3247297    1343002.08   1343002.08  \n",
       "3760288     536624.41    536624.41  \n",
       "5563713    4892193.09   4892193.09  \n",
       "5996407   10000000.00  10000000.00  \n",
       "5996409    9585040.37   9585040.37  \n",
       "6168499    3576297.10   3576297.10  \n",
       "6205439     353874.22    353874.22  \n",
       "6266413    2542664.27   2542664.27  \n",
       "6281482   10000000.00  10000000.00  \n",
       "6281484     399045.08    399045.08  \n",
       "6296014    3441041.46   3441041.46  \n",
       "6351225    3171085.59   3171085.59  \n",
       "6362460   10000000.00  10000000.00  \n",
       "6362462    7316255.05   7316255.05  \n",
       "6362584    5674547.89   5674547.89  "
      ]
     },
     "execution_count": 149,
     "metadata": {},
     "output_type": "execute_result"
    }
   ],
   "source": [
    "# all transactions where isFlaggedFraud is 1\n",
    "df[df[\"isFlaggedFraud\"] == 1]"
   ]
  },
  {
   "cell_type": "markdown",
   "metadata": {},
   "source": [
    "We see that all these transactions are also marked as fraud. So, we will proceed to drop this feature from our model as it does not show any significance."
   ]
  },
  {
   "cell_type": "code",
   "execution_count": 150,
   "metadata": {},
   "outputs": [],
   "source": [
    "# dropped isFlaggedFraud feature\n",
    "df.drop(columns=[\"isFlaggedFraud\"], axis=1, inplace=True)"
   ]
  },
  {
   "cell_type": "markdown",
   "metadata": {},
   "source": [
    "##### **Model Building:**"
   ]
  },
  {
   "cell_type": "markdown",
   "metadata": {},
   "source": [
    "**Label Encoding**\n",
    "\n",
    "First, we will start by label encoding our categorical features. Since, we have only one categorical feature with simple categories, we can do it manually."
   ]
  },
  {
   "cell_type": "code",
   "execution_count": 151,
   "metadata": {},
   "outputs": [],
   "source": [
    "df[\"type\"] = df[\"type\"].replace({\"TRANSFER\":0, \"CASH_OUT\":1}) # label encoded manually"
   ]
  },
  {
   "cell_type": "markdown",
   "metadata": {},
   "source": [
    "**Scaling**\n",
    "\n",
    "We will use standard scaler to scale our dataset and define the X and y."
   ]
  },
  {
   "cell_type": "code",
   "execution_count": 152,
   "metadata": {},
   "outputs": [],
   "source": [
    "scaler = StandardScaler()\n",
    "X = scaler.fit_transform(df.drop(columns=[\"isFraud\"]))\n",
    "y = df[\"isFraud\"]"
   ]
  },
  {
   "cell_type": "markdown",
   "metadata": {},
   "source": [
    "**Train Test Split**"
   ]
  },
  {
   "cell_type": "code",
   "execution_count": 153,
   "metadata": {},
   "outputs": [],
   "source": [
    "# we split our dataset into training and testing sets\n",
    "X_train, X_test, y_train, y_test = train_test_split(X, y, test_size=0.2, stratify=y) # we use stratify as y so that our minority class proportion is maintained in both training and testing sets"
   ]
  },
  {
   "cell_type": "markdown",
   "metadata": {},
   "source": [
    "**Synthetic Minority Over-sampling Technique (SMOTE)**\n",
    "\n",
    "We will be using SMOTE to balance the classes in our dataset. SMOTE is a widely used technique that works by selecting examples that are close in the feature space, drawing a line between the examples in the feature space and drawing a new sample at a point along that line."
   ]
  },
  {
   "cell_type": "code",
   "execution_count": 154,
   "metadata": {},
   "outputs": [],
   "source": [
    "# we use SMOTE to balance the classes in our training set\n",
    "sm = SMOTE(random_state=45)\n",
    "X_res, y_res = sm.fit_resample(X_train, y_train)"
   ]
  },
  {
   "cell_type": "code",
   "execution_count": 160,
   "metadata": {},
   "outputs": [
    {
     "name": "stdout",
     "output_type": "stream",
     "text": [
      "Percentages of classes 0 and 1:\n",
      " 0    50.0\n",
      "1    50.0\n",
      "Name: isFraud, dtype: float64\n"
     ]
    }
   ],
   "source": [
    "# we check if the classes are balanced\n",
    "print(\"Percentages of classes 0 and 1:\\n\", y_res.value_counts(normalize=True)*100)"
   ]
  },
  {
   "cell_type": "markdown",
   "metadata": {},
   "source": [
    "We see that our classes are balanced and hence we proceed towards training the model."
   ]
  },
  {
   "cell_type": "markdown",
   "metadata": {},
   "source": [
    "**Model Selection**\n",
    "\n",
    "We decide to use Random Forest Classifier for our model because it is extremely suitable for huge datasets like ours. Also, it is very flexible, easy to understand and performs pretty solid out of the box without much hyper parameter tuning. If we are unable to get the satisfactory results, we might proceed to try other ML algorithms."
   ]
  },
  {
   "cell_type": "code",
   "execution_count": 161,
   "metadata": {},
   "outputs": [
    {
     "data": {
      "text/plain": [
       "RandomForestClassifier(n_jobs=-1)"
      ]
     },
     "execution_count": 161,
     "metadata": {},
     "output_type": "execute_result"
    }
   ],
   "source": [
    "# we initialize and fit the data on our training set\n",
    "clf = RandomForestClassifier(n_jobs=-1)\n",
    "clf.fit(X_res, y_res)"
   ]
  },
  {
   "cell_type": "markdown",
   "metadata": {},
   "source": [
    "**Evaluation**\n",
    "\n",
    "For our evaluation metric, we will not be using the commonly used accuracy and ROC AUC but instead we will be using the Precision-Recall AUC. This is because since our data is extremely imbalanced and our objective is to evaluate the detection rate, we need a metric that focusses on the recall and precision rates of the classes."
   ]
  },
  {
   "cell_type": "code",
   "execution_count": 162,
   "metadata": {},
   "outputs": [
    {
     "name": "stdout",
     "output_type": "stream",
     "text": [
      "              precision    recall  f1-score   support\n",
      "\n",
      "           0       1.00      1.00      1.00    552439\n",
      "           1       0.99      0.99      0.99      1643\n",
      "\n",
      "    accuracy                           1.00    554082\n",
      "   macro avg       1.00      1.00      1.00    554082\n",
      "weighted avg       1.00      1.00      1.00    554082\n",
      "\n"
     ]
    }
   ],
   "source": [
    "# we predict our testing set with the model and print the classification report to check the evaluation markers\n",
    "y_pred = clf.predict(X_test)\n",
    "print(classification_report(y_test, y_pred))"
   ]
  },
  {
   "cell_type": "code",
   "execution_count": 170,
   "metadata": {},
   "outputs": [
    {
     "name": "stdout",
     "output_type": "stream",
     "text": [
      "Precision-Recall AUC: 98.55 %\n"
     ]
    }
   ],
   "source": [
    "# we check the precision-recall AUC\n",
    "print(\"Precision-Recall AUC:\", ((average_precision_score(y_test, y_pred))*100).round(2), \"%\")"
   ]
  },
  {
   "cell_type": "code",
   "execution_count": 182,
   "metadata": {},
   "outputs": [
    {
     "data": {
      "image/png": "[encoded data removed]",
      "text/plain": [
       "<Figure size 720x576 with 1 Axes>"
      ]
     },
     "metadata": {},
     "output_type": "display_data"
    }
   ],
   "source": [
    "# we plot the precision recall curve\n",
    "display = PrecisionRecallDisplay.from_predictions(y_test, y_pred, name=\"Random Forest Classifier\")\n",
    "display.ax_.set_title(\"2-Class Precision-Recall Curve\")\n",
    "plt.show()"
   ]
  },
  {
   "cell_type": "code",
   "execution_count": 178,
   "metadata": {},
   "outputs": [
    {
     "data": {
      "image/png": "[encoded data removed]",
      "text/plain": [
       "<Figure size 720x576 with 2 Axes>"
      ]
     },
     "metadata": {},
     "output_type": "display_data"
    }
   ],
   "source": [
    "# we plot and check the confusion matrix\n",
    "sns.heatmap(confusion_matrix(y_test, y_pred), annot=True, fmt=\"d\", cmap=\"Blues\")\n",
    "plt.title(\"CONFUSION MATRIX\")\n",
    "plt.show()"
   ]
  },
  {
   "cell_type": "markdown",
   "metadata": {},
   "source": [
    "We see that we have a pretty solid model with near perfect evaluation scores. Hence, we will not try to perform any hyper parameter tuning or any further changes."
   ]
  },
  {
   "cell_type": "markdown",
   "metadata": {},
   "source": [
    "##### **Conclusion:**\n",
    "\n",
    "We see that we have achieved fruitful results. We were able to build a model from an extremely imbalanced dataset that can detect fraud transactions with near perfect accuracy. This concludes our project till here."
   ]
  },
  {
   "cell_type": "markdown",
   "metadata": {},
   "source": [
    "Data Source: [Link](https://www.kaggle.com/datasets/rupakroy/online-payments-fraud-detection-dataset)\n",
    "\n",
    "Thank you for reading!! :D\n",
    "\n",
    "Rishiraj Chowdhury (rishiraj5565@gmail.com)"
   ]
  }
 ],
 "metadata": {
  "interpreter": {
   "hash": "30b9ea9444a8bcb397b9d3d653fce81e1617d59e2c626872b79eb1c921d22d93"
  },
  "kernelspec": {
   "display_name": "Python 3.9.7 ('ds_env')",
   "language": "python",
   "name": "python3"
  },
  "language_info": {
   "codemirror_mode": {
    "name": "ipython",
    "version": 3
   },
   "file_extension": ".py",
   "mimetype": "text/x-python",
   "name": "python",
   "nbconvert_exporter": "python",
   "pygments_lexer": "ipython3",
   "version": "3.9.7"
  },
  "orig_nbformat": 4
 },
 "nbformat": 4,
 "nbformat_minor": 2
}
